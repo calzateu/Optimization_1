{
 "cells": [
  {
   "cell_type": "code",
   "execution_count": 1,
   "metadata": {},
   "outputs": [],
   "source": [
    "import tensorflow as tf\n",
    "import numpy as np\n",
    "import pandas as pd\n",
    "import matplotlib.pyplot as plt"
   ]
  },
  {
   "cell_type": "code",
   "execution_count": 2,
   "metadata": {},
   "outputs": [],
   "source": [
    "data = pd.read_excel(\"Data_Base.xlsx\")\n",
    "X_test = np.array(data.iloc[800:1000,0:8])\n",
    "Y_test = np.array(data.iloc[800:1000,8:9])\n",
    "X_train = np.array(data.iloc[0:800,0:8])\n",
    "Y_train = np.array(data.iloc[0:800,8:9])"
   ]
  },
  {
   "cell_type": "code",
   "execution_count": 17,
   "metadata": {},
   "outputs": [],
   "source": [
    "from sklearn.preprocessing import MinMaxScaler\n",
    "trans = MinMaxScaler()\n",
    "X_train = trans.fit_transform(X_train)\n",
    "X_test = trans.fit_transform(X_test)"
   ]
  },
  {
   "cell_type": "code",
   "execution_count": 24,
   "metadata": {},
   "outputs": [],
   "source": [
    "inputLayer = tf.keras.layers.Flatten(input_dim=8)\n",
    "Hidelayer1 = tf.keras.layers.Dense(units = 16, activation=tf.nn.sigmoid)\n",
    "Hidelayer2 = tf.keras.layers.Dense(units = 16, activation=tf.nn.sigmoid)\n",
    "Output = tf.keras.layers.Dense(units = 1)\n",
    "model = tf.keras.Sequential([inputLayer,Hidelayer1,Hidelayer2,Output])"
   ]
  },
  {
   "cell_type": "code",
   "execution_count": 25,
   "metadata": {},
   "outputs": [],
   "source": [
    "model.compile(optimizer = tf.keras.optimizers.Adam(0.01), loss = 'mean_squared_error',metrics=['mean_absolute_error'])"
   ]
  },
  {
   "cell_type": "code",
   "execution_count": 26,
   "metadata": {},
   "outputs": [
    {
     "name": "stdout",
     "output_type": "stream",
     "text": [
      "Starting training\n",
      "Finished training\n"
     ]
    }
   ],
   "source": [
    "print('Starting training')\n",
    "hist = model.fit(X_train, Y_train, epochs=1000,verbose=False)\n",
    "print('Finished training')"
   ]
  },
  {
   "cell_type": "code",
   "execution_count": 27,
   "metadata": {},
   "outputs": [
    {
     "data": {
      "text/plain": [
       "[<matplotlib.lines.Line2D at 0x1b2b0bc2eb0>]"
      ]
     },
     "execution_count": 27,
     "metadata": {},
     "output_type": "execute_result"
    },
    {
     "data": {
      "image/png": "[encoded data removed]",
      "text/plain": [
       "<Figure size 432x288 with 1 Axes>"
      ]
     },
     "metadata": {
      "needs_background": "light"
     },
     "output_type": "display_data"
    }
   ],
   "source": [
    "plt.xlabel('Iteración')\n",
    "plt.ylabel('Error cuadratico medio')\n",
    "plt.plot(hist.history['loss'])"
   ]
  },
  {
   "cell_type": "code",
   "execution_count": 28,
   "metadata": {},
   "outputs": [
    {
     "data": {
      "text/plain": [
       "[<matplotlib.lines.Line2D at 0x1b2b0c268e0>]"
      ]
     },
     "execution_count": 28,
     "metadata": {},
     "output_type": "execute_result"
    },
    {
     "data": {
      "image/png": "[encoded data removed]",
      "text/plain": [
       "<Figure size 432x288 with 1 Axes>"
      ]
     },
     "metadata": {
      "needs_background": "light"
     },
     "output_type": "display_data"
    }
   ],
   "source": [
    "plt.xlabel('Iteración')\n",
    "plt.ylabel('Error absoluto medio')\n",
    "plt.plot(hist.history['mean_absolute_error'])"
   ]
  },
  {
   "cell_type": "code",
   "execution_count": 29,
   "metadata": {},
   "outputs": [
    {
     "name": "stdout",
     "output_type": "stream",
     "text": [
      "[[ 1.0641047]\n",
      " [ 5.1732635]\n",
      " [ 1.0613068]\n",
      " [ 4.9324255]\n",
      " [ 3.6506186]\n",
      " [ 5.6558204]\n",
      " [ 1.0649685]\n",
      " [ 2.9310422]\n",
      " [ 2.5955071]\n",
      " [ 2.235918 ]\n",
      " [ 1.0635127]\n",
      " [ 1.0647496]\n",
      " [ 1.063119 ]\n",
      " [ 5.3294706]\n",
      " [ 1.418245 ]\n",
      " [ 1.0598978]\n",
      " [ 1.0601145]\n",
      " [ 1.0593356]\n",
      " [ 1.0644993]\n",
      " [ 1.0651249]\n",
      " [ 1.1172863]\n",
      " [ 1.6285769]\n",
      " [ 1.065637 ]\n",
      " [ 1.5275356]\n",
      " [ 4.4504867]\n",
      " [ 2.886828 ]\n",
      " [ 1.0697387]\n",
      " [ 1.0623432]\n",
      " [ 1.0634111]\n",
      " [ 4.5013275]\n",
      " [10.702019 ]\n",
      " [ 1.1032499]\n",
      " [ 2.8980207]\n",
      " [ 1.4529771]\n",
      " [ 4.2733274]\n",
      " [ 3.9446955]\n",
      " [ 4.768371 ]\n",
      " [ 2.1503687]\n",
      " [ 1.0691575]\n",
      " [ 3.158278 ]\n",
      " [ 1.0625013]\n",
      " [ 1.0531276]\n",
      " [ 3.5395632]\n",
      " [ 2.2990098]\n",
      " [ 4.9068866]\n",
      " [ 2.7800288]\n",
      " [ 1.0839659]\n",
      " [ 4.9603977]\n",
      " [ 4.8207006]\n",
      " [ 1.0632914]\n",
      " [ 4.8631477]\n",
      " [ 4.975068 ]\n",
      " [ 4.150679 ]\n",
      " [ 2.8029313]\n",
      " [ 1.065101 ]\n",
      " [ 2.5279126]\n",
      " [ 4.6404305]\n",
      " [ 1.064289 ]\n",
      " [ 1.0637671]\n",
      " [ 3.3526306]\n",
      " [ 4.9563146]\n",
      " [ 1.0622281]\n",
      " [ 2.4032774]\n",
      " [ 1.2071658]\n",
      " [ 1.0642868]\n",
      " [ 4.6221385]\n",
      " [ 3.0302663]\n",
      " [ 4.9425416]\n",
      " [ 4.655092 ]\n",
      " [ 5.4091434]\n",
      " [ 1.0794836]\n",
      " [ 1.1083704]\n",
      " [ 1.0637847]\n",
      " [ 3.325014 ]\n",
      " [ 5.292037 ]\n",
      " [ 1.0813886]\n",
      " [ 3.337142 ]\n",
      " [ 4.9247875]\n",
      " [ 4.708655 ]\n",
      " [ 3.5872073]\n",
      " [ 1.8031498]\n",
      " [ 1.0609618]\n",
      " [ 2.9705548]\n",
      " [ 1.0654846]\n",
      " [ 4.852108 ]\n",
      " [ 1.0646373]\n",
      " [ 4.9487123]\n",
      " [ 1.137566 ]\n",
      " [ 4.932978 ]\n",
      " [ 3.1833577]\n",
      " [ 1.0711561]\n",
      " [ 3.147595 ]\n",
      " [ 1.063537 ]\n",
      " [ 4.944631 ]\n",
      " [ 1.9578847]\n",
      " [ 1.0607129]\n",
      " [ 1.0629827]\n",
      " [ 2.4056988]\n",
      " [ 2.6006021]\n",
      " [ 1.2769309]\n",
      " [ 1.0492078]\n",
      " [ 1.0637659]\n",
      " [ 5.7501316]\n",
      " [ 1.0687143]\n",
      " [ 1.075234 ]\n",
      " [ 1.4123584]\n",
      " [ 2.9282374]\n",
      " [ 1.0812389]\n",
      " [ 4.805902 ]\n",
      " [ 5.0573335]\n",
      " [ 1.0684417]\n",
      " [ 1.0624644]\n",
      " [ 1.0413951]\n",
      " [ 1.078461 ]\n",
      " [ 4.7725263]\n",
      " [ 4.929574 ]\n",
      " [ 4.034409 ]\n",
      " [ 5.056211 ]\n",
      " [ 2.4394412]\n",
      " [ 1.0632578]\n",
      " [ 1.0637704]\n",
      " [ 3.176282 ]\n",
      " [ 1.0646273]\n",
      " [ 4.933944 ]\n",
      " [ 1.0716611]\n",
      " [ 1.0618702]\n",
      " [ 5.147691 ]\n",
      " [ 5.2120447]\n",
      " [ 4.9425707]\n",
      " [ 1.0580503]\n",
      " [ 1.0636669]\n",
      " [ 1.0661079]\n",
      " [ 2.843081 ]\n",
      " [ 1.0635413]\n",
      " [ 2.557932 ]\n",
      " [ 4.9319153]\n",
      " [ 4.792713 ]\n",
      " [ 1.0651757]\n",
      " [ 3.451295 ]\n",
      " [ 1.0604259]\n",
      " [ 1.0561062]\n",
      " [ 1.9466187]\n",
      " [ 1.0628372]\n",
      " [ 4.942433 ]\n",
      " [ 5.265993 ]\n",
      " [ 1.0249952]\n",
      " [ 3.3347778]\n",
      " [ 1.0343887]\n",
      " [ 2.984282 ]\n",
      " [ 5.3317227]\n",
      " [ 2.6766567]\n",
      " [ 4.955868 ]\n",
      " [ 5.236824 ]\n",
      " [ 1.0694498]\n",
      " [ 2.5063934]\n",
      " [ 1.0617245]\n",
      " [ 1.0675193]\n",
      " [ 1.0626174]\n",
      " [ 1.105378 ]\n",
      " [ 1.064993 ]\n",
      " [ 1.0639924]\n",
      " [ 5.492841 ]\n",
      " [ 4.875393 ]\n",
      " [ 3.564283 ]\n",
      " [ 3.8417606]\n",
      " [ 1.0592195]\n",
      " [ 3.9989877]\n",
      " [ 3.4079742]\n",
      " [ 1.10662  ]\n",
      " [ 1.0561584]\n",
      " [ 1.0637118]\n",
      " [ 2.4546804]\n",
      " [ 1.0724725]\n",
      " [ 1.0646116]\n",
      " [ 3.2576504]\n",
      " [ 4.9978805]\n",
      " [ 5.481044 ]\n",
      " [ 4.824594 ]\n",
      " [ 1.0637387]\n",
      " [ 1.0787264]\n",
      " [ 2.3457403]\n",
      " [ 5.4171543]\n",
      " [ 1.0488354]\n",
      " [ 1.193138 ]\n",
      " [ 5.4338536]\n",
      " [ 5.2149634]\n",
      " [ 1.0648485]\n",
      " [ 2.8901005]\n",
      " [ 1.0628055]\n",
      " [ 1.0644041]\n",
      " [ 3.615807 ]\n",
      " [ 1.0642172]\n",
      " [ 1.1320258]\n",
      " [ 4.7441645]\n",
      " [ 1.0640568]\n",
      " [ 1.0696691]\n",
      " [ 5.215287 ]\n",
      " [ 2.242433 ]\n",
      " [ 5.003568 ]\n",
      " [ 1.0637563]]\n"
     ]
    }
   ],
   "source": [
    "print(model.predict(X_test))"
   ]
  },
  {
   "cell_type": "code",
   "execution_count": null,
   "metadata": {},
   "outputs": [],
   "source": [
    "print(Hidelayer1.get_weights())\n",
    "print(Hidelayer2.get_weights())\n",
    "print(Output.get_weights())"
   ]
  }
 ],
 "metadata": {
  "interpreter": {
   "hash": "489cff390bb59a1242a7542f32e5488382a9b1dd5aed398de752009e367f218b"
  },
  "kernelspec": {
   "display_name": "Python 3.9.6 64-bit",
   "name": "python3"
  },
  "language_info": {
   "codemirror_mode": {
    "name": "ipython",
    "version": 3
   },
   "file_extension": ".py",
   "mimetype": "text/x-python",
   "name": "python",
   "nbconvert_exporter": "python",
   "pygments_lexer": "ipython3",
   "version": "3.9.6"
  },
  "orig_nbformat": 4
 },
 "nbformat": 4,
 "nbformat_minor": 2
}
