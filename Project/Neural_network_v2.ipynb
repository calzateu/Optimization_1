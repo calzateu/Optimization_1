{
  "nbformat": 4,
  "nbformat_minor": 0,
  "metadata": {
    "colab": {
      "name": "Untitled4.ipynb",
      "provenance": []
    },
    "kernelspec": {
      "name": "python3",
      "display_name": "Python 3"
    },
    "language_info": {
      "name": "python"
    }
  },
  "cells": [
    {
      "cell_type": "code",
      "metadata": {
        "id": "Lvyzy5saqs-T"
      },
      "source": [
        "import numpy as np\n",
        "from sklearn import datasets\n",
        "from sklearn.model_selection import train_test_split\n",
        "from tensorflow.keras import Sequential, optimizers"
      ],
      "execution_count": 38,
      "outputs": []
    },
    {
      "cell_type": "code",
      "metadata": {
        "id": "KlnHWTR1q6Bw"
      },
      "source": [
        "import pandas as pd"
      ],
      "execution_count": 47,
      "outputs": []
    },
    {
      "cell_type": "code",
      "metadata": {
        "id": "gDyDmKPUrBZe"
      },
      "source": [
        "data = pd.read_excel(\"Data_Base.xlsx\")"
      ],
      "execution_count": 48,
      "outputs": []
    },
    {
      "cell_type": "code",
      "metadata": {
        "colab": {
          "base_uri": "https://localhost:8080/"
        },
        "id": "UvrWpk8EsF9U",
        "outputId": "dd150ef4-1b41-4311-e247-b56e70ee86da"
      },
      "source": [
        "data.columns"
      ],
      "execution_count": 49,
      "outputs": [
        {
          "output_type": "execute_result",
          "data": {
            "text/plain": [
              "Index(['C_m_delta_e', 'U_0', 'rho', 'st', 'c', 'I_y', 'C_z_delta_e', 'm', 'kp',\n",
              "       'ki', 'kd'],\n",
              "      dtype='object')"
            ]
          },
          "metadata": {},
          "execution_count": 49
        }
      ]
    },
    {
      "cell_type": "code",
      "metadata": {
        "id": "Al7LcQwWsBf-"
      },
      "source": [
        "X = data[['C_m_delta_e', 'U_0', 'rho', 'st', 'c', 'I_y', 'C_z_delta_e', 'm',]]\n",
        "y = data['kp']"
      ],
      "execution_count": 50,
      "outputs": []
    },
    {
      "cell_type": "code",
      "metadata": {
        "id": "6XbW8AuLtSZ4"
      },
      "source": [
        "from sklearn.preprocessing import MinMaxScaler\n",
        "trans = MinMaxScaler()\n",
        "Xnor = trans.fit_transform(X)"
      ],
      "execution_count": 51,
      "outputs": []
    },
    {
      "cell_type": "code",
      "metadata": {
        "id": "zPDtFb04lQ5K",
        "colab": {
          "base_uri": "https://localhost:8080/"
        },
        "outputId": "ae3d0641-b7f6-4140-ad27-cb5408b62335"
      },
      "source": [
        "network = models.Sequential()\n",
        "network.add(layers.Dense(8, activation='relu', input_shape=(8,)))\n",
        "network.add(layers.Dense(8, activation='relu'))\n",
        "network.add(layers.Dense(1))\n",
        "#\n",
        "# Configure the network with optimizer, loss function and accuracy\n",
        "#\n",
        "network.compile(optimizer=optimizers.Adam(lr=0.001),\n",
        "                loss='mse',\n",
        "                metrics=['mae'])\n",
        "\n",
        "X_train, X_test, y_train, y_test = train_test_split(Xnor, y, test_size=0.3, random_state=42)\n",
        "\n",
        "history = network.fit(X_train, y_train,\n",
        "                    validation_data=(X_test, y_test),\n",
        "                    epochs=100,\n",
        "                    batch_size=20)"
      ],
      "execution_count": 61,
      "outputs": [
        {
          "output_type": "stream",
          "name": "stderr",
          "text": [
            "/usr/local/lib/python3.7/dist-packages/keras/optimizer_v2/optimizer_v2.py:356: UserWarning: The `lr` argument is deprecated, use `learning_rate` instead.\n",
            "  \"The `lr` argument is deprecated, use `learning_rate` instead.\")\n"
          ]
        },
        {
          "output_type": "stream",
          "name": "stdout",
          "text": [
            "Epoch 1/100\n",
            "35/35 [==============================] - 1s 15ms/step - loss: 10.6423 - mae: 2.7180 - val_loss: 10.6736 - val_mae: 2.7032\n",
            "Epoch 2/100\n",
            "35/35 [==============================] - 0s 2ms/step - loss: 8.6664 - mae: 2.2992 - val_loss: 8.8752 - val_mae: 2.3259\n",
            "Epoch 3/100\n",
            "35/35 [==============================] - 0s 2ms/step - loss: 7.2013 - mae: 1.9408 - val_loss: 7.3694 - val_mae: 1.9879\n",
            "Epoch 4/100\n",
            "35/35 [==============================] - 0s 2ms/step - loss: 5.9622 - mae: 1.7315 - val_loss: 6.0477 - val_mae: 1.8833\n",
            "Epoch 5/100\n",
            "35/35 [==============================] - 0s 2ms/step - loss: 5.0146 - mae: 1.7207 - val_loss: 5.1325 - val_mae: 1.8675\n",
            "Epoch 6/100\n",
            "35/35 [==============================] - 0s 2ms/step - loss: 4.4327 - mae: 1.7363 - val_loss: 4.6522 - val_mae: 1.8575\n",
            "Epoch 7/100\n",
            "35/35 [==============================] - 0s 3ms/step - loss: 4.1791 - mae: 1.7549 - val_loss: 4.4211 - val_mae: 1.8460\n",
            "Epoch 8/100\n",
            "35/35 [==============================] - 0s 3ms/step - loss: 4.0881 - mae: 1.7703 - val_loss: 4.2873 - val_mae: 1.8305\n",
            "Epoch 9/100\n",
            "35/35 [==============================] - 0s 3ms/step - loss: 4.0132 - mae: 1.7521 - val_loss: 4.2391 - val_mae: 1.8139\n",
            "Epoch 10/100\n",
            "35/35 [==============================] - 0s 2ms/step - loss: 3.9618 - mae: 1.7424 - val_loss: 4.1724 - val_mae: 1.8012\n",
            "Epoch 11/100\n",
            "35/35 [==============================] - 0s 3ms/step - loss: 3.9202 - mae: 1.7347 - val_loss: 4.1264 - val_mae: 1.7877\n",
            "Epoch 12/100\n",
            "35/35 [==============================] - 0s 3ms/step - loss: 3.8738 - mae: 1.7254 - val_loss: 4.0682 - val_mae: 1.7747\n",
            "Epoch 13/100\n",
            "35/35 [==============================] - 0s 3ms/step - loss: 3.8296 - mae: 1.7159 - val_loss: 4.0238 - val_mae: 1.7590\n",
            "Epoch 14/100\n",
            "35/35 [==============================] - 0s 2ms/step - loss: 3.7802 - mae: 1.6907 - val_loss: 3.9902 - val_mae: 1.7424\n",
            "Epoch 15/100\n",
            "35/35 [==============================] - 0s 3ms/step - loss: 3.7309 - mae: 1.6798 - val_loss: 3.9295 - val_mae: 1.7270\n",
            "Epoch 16/100\n",
            "35/35 [==============================] - 0s 3ms/step - loss: 3.6821 - mae: 1.6627 - val_loss: 3.8783 - val_mae: 1.7089\n",
            "Epoch 17/100\n",
            "35/35 [==============================] - 0s 3ms/step - loss: 3.6247 - mae: 1.6494 - val_loss: 3.8063 - val_mae: 1.6922\n",
            "Epoch 18/100\n",
            "35/35 [==============================] - 0s 2ms/step - loss: 3.5681 - mae: 1.6319 - val_loss: 3.7377 - val_mae: 1.6744\n",
            "Epoch 19/100\n",
            "35/35 [==============================] - 0s 2ms/step - loss: 3.5072 - mae: 1.6206 - val_loss: 3.6716 - val_mae: 1.6547\n",
            "Epoch 20/100\n",
            "35/35 [==============================] - 0s 3ms/step - loss: 3.4506 - mae: 1.5935 - val_loss: 3.5994 - val_mae: 1.6332\n",
            "Epoch 21/100\n",
            "35/35 [==============================] - 0s 3ms/step - loss: 3.3751 - mae: 1.5758 - val_loss: 3.5344 - val_mae: 1.6092\n",
            "Epoch 22/100\n",
            "35/35 [==============================] - 0s 3ms/step - loss: 3.3076 - mae: 1.5544 - val_loss: 3.4690 - val_mae: 1.5823\n",
            "Epoch 23/100\n",
            "35/35 [==============================] - 0s 3ms/step - loss: 3.2364 - mae: 1.5296 - val_loss: 3.3743 - val_mae: 1.5620\n",
            "Epoch 24/100\n",
            "35/35 [==============================] - 0s 3ms/step - loss: 3.1613 - mae: 1.5020 - val_loss: 3.3183 - val_mae: 1.5295\n",
            "Epoch 25/100\n",
            "35/35 [==============================] - 0s 3ms/step - loss: 3.0851 - mae: 1.4779 - val_loss: 3.2094 - val_mae: 1.5139\n",
            "Epoch 26/100\n",
            "35/35 [==============================] - 0s 2ms/step - loss: 3.0171 - mae: 1.4679 - val_loss: 3.1633 - val_mae: 1.4783\n",
            "Epoch 27/100\n",
            "35/35 [==============================] - 0s 2ms/step - loss: 2.9407 - mae: 1.4305 - val_loss: 3.0621 - val_mae: 1.4610\n",
            "Epoch 28/100\n",
            "35/35 [==============================] - 0s 2ms/step - loss: 2.8754 - mae: 1.4161 - val_loss: 2.9878 - val_mae: 1.4328\n",
            "Epoch 29/100\n",
            "35/35 [==============================] - 0s 2ms/step - loss: 2.8051 - mae: 1.3961 - val_loss: 2.9240 - val_mae: 1.4065\n",
            "Epoch 30/100\n",
            "35/35 [==============================] - 0s 2ms/step - loss: 2.7424 - mae: 1.3693 - val_loss: 2.8532 - val_mae: 1.3841\n",
            "Epoch 31/100\n",
            "35/35 [==============================] - 0s 2ms/step - loss: 2.6890 - mae: 1.3372 - val_loss: 2.7827 - val_mae: 1.3629\n",
            "Epoch 32/100\n",
            "35/35 [==============================] - 0s 2ms/step - loss: 2.6286 - mae: 1.3327 - val_loss: 2.7222 - val_mae: 1.3408\n",
            "Epoch 33/100\n",
            "35/35 [==============================] - 0s 2ms/step - loss: 2.5749 - mae: 1.3003 - val_loss: 2.6754 - val_mae: 1.3105\n",
            "Epoch 34/100\n",
            "35/35 [==============================] - 0s 2ms/step - loss: 2.5205 - mae: 1.2832 - val_loss: 2.6153 - val_mae: 1.2944\n",
            "Epoch 35/100\n",
            "35/35 [==============================] - 0s 2ms/step - loss: 2.4772 - mae: 1.2642 - val_loss: 2.5506 - val_mae: 1.2822\n",
            "Epoch 36/100\n",
            "35/35 [==============================] - 0s 3ms/step - loss: 2.4365 - mae: 1.2454 - val_loss: 2.5097 - val_mae: 1.2590\n",
            "Epoch 37/100\n",
            "35/35 [==============================] - 0s 2ms/step - loss: 2.3925 - mae: 1.2315 - val_loss: 2.4777 - val_mae: 1.2317\n",
            "Epoch 38/100\n",
            "35/35 [==============================] - 0s 3ms/step - loss: 2.3542 - mae: 1.2062 - val_loss: 2.4150 - val_mae: 1.2262\n",
            "Epoch 39/100\n",
            "35/35 [==============================] - 0s 2ms/step - loss: 2.3186 - mae: 1.1944 - val_loss: 2.3910 - val_mae: 1.2013\n",
            "Epoch 40/100\n",
            "35/35 [==============================] - 0s 2ms/step - loss: 2.2822 - mae: 1.1928 - val_loss: 2.3517 - val_mae: 1.1868\n",
            "Epoch 41/100\n",
            "35/35 [==============================] - 0s 3ms/step - loss: 2.2560 - mae: 1.1579 - val_loss: 2.3085 - val_mae: 1.1768\n",
            "Epoch 42/100\n",
            "35/35 [==============================] - 0s 2ms/step - loss: 2.2228 - mae: 1.1653 - val_loss: 2.2762 - val_mae: 1.1598\n",
            "Epoch 43/100\n",
            "35/35 [==============================] - 0s 2ms/step - loss: 2.1991 - mae: 1.1448 - val_loss: 2.2499 - val_mae: 1.1479\n",
            "Epoch 44/100\n",
            "35/35 [==============================] - 0s 2ms/step - loss: 2.1769 - mae: 1.1386 - val_loss: 2.2180 - val_mae: 1.1408\n",
            "Epoch 45/100\n",
            "35/35 [==============================] - 0s 2ms/step - loss: 2.1472 - mae: 1.1064 - val_loss: 2.1678 - val_mae: 1.1423\n",
            "Epoch 46/100\n",
            "35/35 [==============================] - 0s 2ms/step - loss: 2.1254 - mae: 1.1234 - val_loss: 2.1723 - val_mae: 1.1168\n",
            "Epoch 47/100\n",
            "35/35 [==============================] - 0s 3ms/step - loss: 2.0996 - mae: 1.1017 - val_loss: 2.1270 - val_mae: 1.1205\n",
            "Epoch 48/100\n",
            "35/35 [==============================] - 0s 2ms/step - loss: 2.1015 - mae: 1.0977 - val_loss: 2.0969 - val_mae: 1.1176\n",
            "Epoch 49/100\n",
            "35/35 [==============================] - 0s 3ms/step - loss: 2.0722 - mae: 1.1032 - val_loss: 2.1163 - val_mae: 1.0928\n",
            "Epoch 50/100\n",
            "35/35 [==============================] - 0s 3ms/step - loss: 2.0545 - mae: 1.0774 - val_loss: 2.0625 - val_mae: 1.0969\n",
            "Epoch 51/100\n",
            "35/35 [==============================] - 0s 2ms/step - loss: 2.0466 - mae: 1.0852 - val_loss: 2.0455 - val_mae: 1.0901\n",
            "Epoch 52/100\n",
            "35/35 [==============================] - 0s 2ms/step - loss: 2.0297 - mae: 1.0790 - val_loss: 2.0444 - val_mae: 1.0753\n",
            "Epoch 53/100\n",
            "35/35 [==============================] - 0s 2ms/step - loss: 2.0207 - mae: 1.0763 - val_loss: 2.0570 - val_mae: 1.0669\n",
            "Epoch 54/100\n",
            "35/35 [==============================] - 0s 2ms/step - loss: 2.0080 - mae: 1.0614 - val_loss: 2.0022 - val_mae: 1.0735\n",
            "Epoch 55/100\n",
            "35/35 [==============================] - 0s 2ms/step - loss: 2.0010 - mae: 1.0605 - val_loss: 1.9962 - val_mae: 1.0667\n",
            "Epoch 56/100\n",
            "35/35 [==============================] - 0s 2ms/step - loss: 1.9955 - mae: 1.0735 - val_loss: 2.0054 - val_mae: 1.0558\n",
            "Epoch 57/100\n",
            "35/35 [==============================] - 0s 2ms/step - loss: 1.9853 - mae: 1.0566 - val_loss: 1.9796 - val_mae: 1.0568\n",
            "Epoch 58/100\n",
            "35/35 [==============================] - 0s 2ms/step - loss: 1.9787 - mae: 1.0594 - val_loss: 1.9943 - val_mae: 1.0482\n",
            "Epoch 59/100\n",
            "35/35 [==============================] - 0s 2ms/step - loss: 1.9715 - mae: 1.0542 - val_loss: 1.9582 - val_mae: 1.0505\n",
            "Epoch 60/100\n",
            "35/35 [==============================] - 0s 3ms/step - loss: 1.9657 - mae: 1.0467 - val_loss: 1.9645 - val_mae: 1.0447\n",
            "Epoch 61/100\n",
            "35/35 [==============================] - 0s 3ms/step - loss: 1.9582 - mae: 1.0507 - val_loss: 1.9473 - val_mae: 1.0470\n",
            "Epoch 62/100\n",
            "35/35 [==============================] - 0s 3ms/step - loss: 1.9614 - mae: 1.0449 - val_loss: 1.9557 - val_mae: 1.0409\n",
            "Epoch 63/100\n",
            "35/35 [==============================] - 0s 2ms/step - loss: 1.9510 - mae: 1.0541 - val_loss: 1.9574 - val_mae: 1.0360\n",
            "Epoch 64/100\n",
            "35/35 [==============================] - 0s 2ms/step - loss: 1.9454 - mae: 1.0366 - val_loss: 1.9214 - val_mae: 1.0475\n",
            "Epoch 65/100\n",
            "35/35 [==============================] - 0s 3ms/step - loss: 1.9378 - mae: 1.0476 - val_loss: 1.9368 - val_mae: 1.0351\n",
            "Epoch 66/100\n",
            "35/35 [==============================] - 0s 2ms/step - loss: 1.9396 - mae: 1.0417 - val_loss: 1.9471 - val_mae: 1.0316\n",
            "Epoch 67/100\n",
            "35/35 [==============================] - 0s 2ms/step - loss: 1.9353 - mae: 1.0403 - val_loss: 1.9214 - val_mae: 1.0317\n",
            "Epoch 68/100\n",
            "35/35 [==============================] - 0s 3ms/step - loss: 1.9384 - mae: 1.0353 - val_loss: 1.9235 - val_mae: 1.0297\n",
            "Epoch 69/100\n",
            "35/35 [==============================] - 0s 3ms/step - loss: 1.9262 - mae: 1.0387 - val_loss: 1.9043 - val_mae: 1.0335\n",
            "Epoch 70/100\n",
            "35/35 [==============================] - 0s 2ms/step - loss: 1.9322 - mae: 1.0315 - val_loss: 1.9141 - val_mae: 1.0259\n",
            "Epoch 71/100\n",
            "35/35 [==============================] - 0s 2ms/step - loss: 1.9213 - mae: 1.0393 - val_loss: 1.9008 - val_mae: 1.0297\n",
            "Epoch 72/100\n",
            "35/35 [==============================] - 0s 2ms/step - loss: 1.9224 - mae: 1.0326 - val_loss: 1.9014 - val_mae: 1.0268\n",
            "Epoch 73/100\n",
            "35/35 [==============================] - 0s 2ms/step - loss: 1.9162 - mae: 1.0329 - val_loss: 1.8982 - val_mae: 1.0230\n",
            "Epoch 74/100\n",
            "35/35 [==============================] - 0s 2ms/step - loss: 1.9163 - mae: 1.0332 - val_loss: 1.8963 - val_mae: 1.0222\n",
            "Epoch 75/100\n",
            "35/35 [==============================] - 0s 2ms/step - loss: 1.9179 - mae: 1.0275 - val_loss: 1.8885 - val_mae: 1.0228\n",
            "Epoch 76/100\n",
            "35/35 [==============================] - 0s 2ms/step - loss: 1.9139 - mae: 1.0278 - val_loss: 1.8893 - val_mae: 1.0209\n",
            "Epoch 77/100\n",
            "35/35 [==============================] - 0s 3ms/step - loss: 1.9088 - mae: 1.0316 - val_loss: 1.9267 - val_mae: 1.0172\n",
            "Epoch 78/100\n",
            "35/35 [==============================] - 0s 3ms/step - loss: 1.9168 - mae: 1.0243 - val_loss: 1.8769 - val_mae: 1.0213\n",
            "Epoch 79/100\n",
            "35/35 [==============================] - 0s 2ms/step - loss: 1.9097 - mae: 1.0242 - val_loss: 1.8931 - val_mae: 1.0152\n",
            "Epoch 80/100\n",
            "35/35 [==============================] - 0s 3ms/step - loss: 1.9094 - mae: 1.0289 - val_loss: 1.9090 - val_mae: 1.0146\n",
            "Epoch 81/100\n",
            "35/35 [==============================] - 0s 3ms/step - loss: 1.9036 - mae: 1.0173 - val_loss: 1.8715 - val_mae: 1.0217\n",
            "Epoch 82/100\n",
            "35/35 [==============================] - 0s 2ms/step - loss: 1.9094 - mae: 1.0261 - val_loss: 1.8752 - val_mae: 1.0166\n",
            "Epoch 83/100\n",
            "35/35 [==============================] - 0s 2ms/step - loss: 1.9017 - mae: 1.0211 - val_loss: 1.8717 - val_mae: 1.0165\n",
            "Epoch 84/100\n",
            "35/35 [==============================] - 0s 2ms/step - loss: 1.9093 - mae: 1.0276 - val_loss: 1.8826 - val_mae: 1.0145\n",
            "Epoch 85/100\n",
            "35/35 [==============================] - 0s 3ms/step - loss: 1.8993 - mae: 1.0217 - val_loss: 1.8914 - val_mae: 1.0129\n",
            "Epoch 86/100\n",
            "35/35 [==============================] - 0s 3ms/step - loss: 1.9052 - mae: 1.0185 - val_loss: 1.8625 - val_mae: 1.0203\n",
            "Epoch 87/100\n",
            "35/35 [==============================] - 0s 2ms/step - loss: 1.8967 - mae: 1.0259 - val_loss: 1.8821 - val_mae: 1.0112\n",
            "Epoch 88/100\n",
            "35/35 [==============================] - 0s 2ms/step - loss: 1.9123 - mae: 1.0119 - val_loss: 1.8645 - val_mae: 1.0312\n",
            "Epoch 89/100\n",
            "35/35 [==============================] - 0s 2ms/step - loss: 1.9065 - mae: 1.0259 - val_loss: 1.8730 - val_mae: 1.0135\n",
            "Epoch 90/100\n",
            "35/35 [==============================] - 0s 2ms/step - loss: 1.8949 - mae: 1.0158 - val_loss: 1.8616 - val_mae: 1.0171\n",
            "Epoch 91/100\n",
            "35/35 [==============================] - 0s 3ms/step - loss: 1.8994 - mae: 1.0324 - val_loss: 1.9111 - val_mae: 1.0112\n",
            "Epoch 92/100\n",
            "35/35 [==============================] - 0s 3ms/step - loss: 1.9084 - mae: 1.0209 - val_loss: 1.8606 - val_mae: 1.0144\n",
            "Epoch 93/100\n",
            "35/35 [==============================] - 0s 3ms/step - loss: 1.8946 - mae: 1.0158 - val_loss: 1.8682 - val_mae: 1.0107\n",
            "Epoch 94/100\n",
            "35/35 [==============================] - 0s 2ms/step - loss: 1.8943 - mae: 1.0157 - val_loss: 1.8578 - val_mae: 1.0131\n",
            "Epoch 95/100\n",
            "35/35 [==============================] - 0s 2ms/step - loss: 1.8933 - mae: 1.0207 - val_loss: 1.8751 - val_mae: 1.0094\n",
            "Epoch 96/100\n",
            "35/35 [==============================] - 0s 3ms/step - loss: 1.8973 - mae: 1.0195 - val_loss: 1.8826 - val_mae: 1.0085\n",
            "Epoch 97/100\n",
            "35/35 [==============================] - 0s 3ms/step - loss: 1.8954 - mae: 1.0181 - val_loss: 1.8560 - val_mae: 1.0148\n",
            "Epoch 98/100\n",
            "35/35 [==============================] - 0s 2ms/step - loss: 1.8976 - mae: 1.0229 - val_loss: 1.8735 - val_mae: 1.0091\n",
            "Epoch 99/100\n",
            "35/35 [==============================] - 0s 2ms/step - loss: 1.8912 - mae: 1.0188 - val_loss: 1.8707 - val_mae: 1.0082\n",
            "Epoch 100/100\n",
            "35/35 [==============================] - 0s 3ms/step - loss: 1.8980 - mae: 1.0235 - val_loss: 1.8959 - val_mae: 1.0073\n"
          ]
        }
      ]
    },
    {
      "cell_type": "code",
      "metadata": {
        "colab": {
          "base_uri": "https://localhost:8080/",
          "height": 428
        },
        "id": "cO5Tn859s5wH",
        "outputId": "026bfed3-a6e8-41b7-c527-25edd1aecae6"
      },
      "source": [
        "import matplotlib.pyplot as plt\n",
        " \n",
        "history_dict = history.history\n",
        "loss_values = history_dict['loss']\n",
        "val_loss_values = history_dict['val_loss']\n",
        "accuracy = history_dict['mae']\n",
        "val_accuracy = history_dict['val_mae']\n",
        " \n",
        "epochs = range(1, len(loss_values) + 1)\n",
        "fig, ax = plt.subplots(1, 2, figsize=(14, 6))\n",
        "#\n",
        "# Plot the model accuracy (MAE) vs Epochs\n",
        "#\n",
        "ax[0].plot(epochs, accuracy, 'bo', label='Training accuracy')\n",
        "ax[0].plot(epochs, val_accuracy, 'b', label='Validation accuracy')\n",
        "ax[0].set_title('Training & Validation Accuracy', fontsize=16)\n",
        "ax[0].set_xlabel('Epochs', fontsize=16)\n",
        "ax[0].set_ylabel('Accuracy', fontsize=16)\n",
        "ax[0].legend()\n",
        "#\n",
        "# Plot the loss vs Epochs\n",
        "#\n",
        "ax[1].plot(epochs, loss_values, 'bo', label='Training loss')\n",
        "ax[1].plot(epochs, val_loss_values, 'b', label='Validation loss')\n",
        "ax[1].set_title('Training & Validation Loss', fontsize=16)\n",
        "ax[1].set_xlabel('Epochs', fontsize=16)\n",
        "ax[1].set_ylabel('Loss', fontsize=16)\n",
        "ax[1].legend()"
      ],
      "execution_count": 62,
      "outputs": [
        {
          "output_type": "execute_result",
          "data": {
            "text/plain": [
              "<matplotlib.legend.Legend at 0x7f2810b15810>"
            ]
          },
          "metadata": {},
          "execution_count": 62
        },
        {
          "output_type": "display_data",
          "data": {
            "image/png": "[encoded data removed]",
            "text/plain": [
              "<Figure size 1008x432 with 2 Axes>"
            ]
          },
          "metadata": {
            "needs_background": "light"
          }
        }
      ]
    }
  ]
}