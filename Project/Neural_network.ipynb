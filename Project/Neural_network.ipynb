{
  "nbformat": 4,
  "nbformat_minor": 0,
  "metadata": {
    "colab": {
      "name": "Untitled2.ipynb",
      "provenance": [],
      "authorship_tag": "ABX9TyO8prEBI4ep/Jw4WWGeFYi+",
      "include_colab_link": true
    },
    "kernelspec": {
      "name": "python3",
      "display_name": "Python 3"
    },
    "language_info": {
      "name": "python"
    }
  },
  "cells": [
    {
      "cell_type": "markdown",
      "metadata": {
        "id": "view-in-github",
        "colab_type": "text"
      },
      "source": [
        "<a href=\"https://colab.research.google.com/github/calzateu/Optimization_1/blob/main/Project/Neural_network.ipynb\" target=\"_parent\"><img src=\"https://colab.research.google.com/assets/colab-badge.svg\" alt=\"Open In Colab\"/></a>"
      ]
    },
    {
      "cell_type": "code",
      "metadata": {
        "id": "0vGt43mLMpk6"
      },
      "source": [
        "import tensorflow as tf\n",
        "import numpy as np\n",
        "import pandas as pd"
      ],
      "execution_count": 1,
      "outputs": []
    },
    {
      "cell_type": "code",
      "metadata": {
        "id": "oZMB0aZDP09m",
        "outputId": "438ae19d-88d5-483f-f159-9e97e4781782",
        "colab": {
          "base_uri": "https://localhost:8080/"
        }
      },
      "source": [
        "!rm -rf Optimization_1/\n",
        "!git clone https://github.com/calzateu/Optimization_1.git"
      ],
      "execution_count": 2,
      "outputs": [
        {
          "output_type": "stream",
          "name": "stdout",
          "text": [
            "Cloning into 'Optimization_1'...\n",
            "remote: Enumerating objects: 28, done.\u001b[K\n",
            "remote: Counting objects: 100% (28/28), done.\u001b[K\n",
            "remote: Compressing objects: 100% (21/21), done.\u001b[K\n",
            "remote: Total 28 (delta 6), reused 14 (delta 3), pack-reused 0\u001b[K\n",
            "Unpacking objects: 100% (28/28), done.\n"
          ]
        }
      ]
    },
    {
      "cell_type": "code",
      "metadata": {
        "id": "vhE_TsKvP4C8"
      },
      "source": [
        "data = pd.read_excel('Optimization_1/Project/Data_Base.xlsx')"
      ],
      "execution_count": 3,
      "outputs": []
    },
    {
      "cell_type": "code",
      "metadata": {
        "id": "JZ_fivaRP5pC",
        "outputId": "ff06599e-1128-4f0a-d8a1-6f2c2c7c25cd",
        "colab": {
          "base_uri": "https://localhost:8080/",
          "height": 359
        }
      },
      "source": [
        "data.head(10)"
      ],
      "execution_count": 4,
      "outputs": [
        {
          "output_type": "execute_result",
          "data": {
            "text/html": [
              "<div>\n",
              "<style scoped>\n",
              "    .dataframe tbody tr th:only-of-type {\n",
              "        vertical-align: middle;\n",
              "    }\n",
              "\n",
              "    .dataframe tbody tr th {\n",
              "        vertical-align: top;\n",
              "    }\n",
              "\n",
              "    .dataframe thead th {\n",
              "        text-align: right;\n",
              "    }\n",
              "</style>\n",
              "<table border=\"1\" class=\"dataframe\">\n",
              "  <thead>\n",
              "    <tr style=\"text-align: right;\">\n",
              "      <th></th>\n",
              "      <th>C_m_delta_e</th>\n",
              "      <th>U_0</th>\n",
              "      <th>rho</th>\n",
              "      <th>st</th>\n",
              "      <th>c</th>\n",
              "      <th>I_y</th>\n",
              "      <th>C_z_delta_e</th>\n",
              "      <th>m</th>\n",
              "      <th>kp</th>\n",
              "      <th>ki</th>\n",
              "      <th>kd</th>\n",
              "    </tr>\n",
              "  </thead>\n",
              "  <tbody>\n",
              "    <tr>\n",
              "      <th>0</th>\n",
              "      <td>-1.3265</td>\n",
              "      <td>49.408818</td>\n",
              "      <td>1.29</td>\n",
              "      <td>0.252505</td>\n",
              "      <td>0.355711</td>\n",
              "      <td>0.17</td>\n",
              "      <td>-3.565</td>\n",
              "      <td>9242.484970</td>\n",
              "      <td>1.51</td>\n",
              "      <td>2.31</td>\n",
              "      <td>0.06</td>\n",
              "    </tr>\n",
              "    <tr>\n",
              "      <th>1</th>\n",
              "      <td>-1.3265</td>\n",
              "      <td>62.106212</td>\n",
              "      <td>1.29</td>\n",
              "      <td>0.322645</td>\n",
              "      <td>0.270942</td>\n",
              "      <td>0.17</td>\n",
              "      <td>-3.565</td>\n",
              "      <td>4661.322645</td>\n",
              "      <td>1.05</td>\n",
              "      <td>1.01</td>\n",
              "      <td>0.01</td>\n",
              "    </tr>\n",
              "    <tr>\n",
              "      <th>2</th>\n",
              "      <td>-1.3265</td>\n",
              "      <td>9.134269</td>\n",
              "      <td>1.29</td>\n",
              "      <td>0.591182</td>\n",
              "      <td>0.445892</td>\n",
              "      <td>0.17</td>\n",
              "      <td>-3.565</td>\n",
              "      <td>5977.955912</td>\n",
              "      <td>3.51</td>\n",
              "      <td>5.06</td>\n",
              "      <td>1.01</td>\n",
              "    </tr>\n",
              "    <tr>\n",
              "      <th>3</th>\n",
              "      <td>-1.3265</td>\n",
              "      <td>30.561122</td>\n",
              "      <td>1.29</td>\n",
              "      <td>0.897796</td>\n",
              "      <td>0.408016</td>\n",
              "      <td>0.17</td>\n",
              "      <td>-3.565</td>\n",
              "      <td>7979.959920</td>\n",
              "      <td>4.66</td>\n",
              "      <td>16.86</td>\n",
              "      <td>1.01</td>\n",
              "    </tr>\n",
              "    <tr>\n",
              "      <th>4</th>\n",
              "      <td>-1.3265</td>\n",
              "      <td>60.320641</td>\n",
              "      <td>1.29</td>\n",
              "      <td>0.557114</td>\n",
              "      <td>0.184369</td>\n",
              "      <td>0.17</td>\n",
              "      <td>-3.565</td>\n",
              "      <td>5923.847695</td>\n",
              "      <td>1.05</td>\n",
              "      <td>1.26</td>\n",
              "      <td>0.01</td>\n",
              "    </tr>\n",
              "    <tr>\n",
              "      <th>5</th>\n",
              "      <td>-1.3265</td>\n",
              "      <td>99.206413</td>\n",
              "      <td>1.29</td>\n",
              "      <td>0.482966</td>\n",
              "      <td>0.358417</td>\n",
              "      <td>0.17</td>\n",
              "      <td>-3.565</td>\n",
              "      <td>5328.657315</td>\n",
              "      <td>1.01</td>\n",
              "      <td>3.06</td>\n",
              "      <td>0.01</td>\n",
              "    </tr>\n",
              "    <tr>\n",
              "      <th>6</th>\n",
              "      <td>-1.3265</td>\n",
              "      <td>75.002004</td>\n",
              "      <td>1.29</td>\n",
              "      <td>0.210421</td>\n",
              "      <td>0.161824</td>\n",
              "      <td>0.17</td>\n",
              "      <td>-3.565</td>\n",
              "      <td>1865.731463</td>\n",
              "      <td>1.51</td>\n",
              "      <td>1.26</td>\n",
              "      <td>0.06</td>\n",
              "    </tr>\n",
              "    <tr>\n",
              "      <th>7</th>\n",
              "      <td>-1.3265</td>\n",
              "      <td>71.232465</td>\n",
              "      <td>1.29</td>\n",
              "      <td>0.855711</td>\n",
              "      <td>0.405311</td>\n",
              "      <td>0.17</td>\n",
              "      <td>-3.565</td>\n",
              "      <td>7691.382766</td>\n",
              "      <td>1.06</td>\n",
              "      <td>3.96</td>\n",
              "      <td>0.01</td>\n",
              "    </tr>\n",
              "    <tr>\n",
              "      <th>8</th>\n",
              "      <td>-1.3265</td>\n",
              "      <td>11.316633</td>\n",
              "      <td>1.29</td>\n",
              "      <td>0.521042</td>\n",
              "      <td>0.431463</td>\n",
              "      <td>0.17</td>\n",
              "      <td>-3.565</td>\n",
              "      <td>8593.186373</td>\n",
              "      <td>6.21</td>\n",
              "      <td>4.61</td>\n",
              "      <td>1.01</td>\n",
              "    </tr>\n",
              "    <tr>\n",
              "      <th>9</th>\n",
              "      <td>-1.3265</td>\n",
              "      <td>38.298597</td>\n",
              "      <td>1.29</td>\n",
              "      <td>0.272545</td>\n",
              "      <td>0.105912</td>\n",
              "      <td>0.17</td>\n",
              "      <td>-3.565</td>\n",
              "      <td>7222.444890</td>\n",
              "      <td>5.56</td>\n",
              "      <td>7.86</td>\n",
              "      <td>1.01</td>\n",
              "    </tr>\n",
              "  </tbody>\n",
              "</table>\n",
              "</div>"
            ],
            "text/plain": [
              "   C_m_delta_e        U_0   rho        st  ...            m    kp     ki    kd\n",
              "0      -1.3265  49.408818  1.29  0.252505  ...  9242.484970  1.51   2.31  0.06\n",
              "1      -1.3265  62.106212  1.29  0.322645  ...  4661.322645  1.05   1.01  0.01\n",
              "2      -1.3265   9.134269  1.29  0.591182  ...  5977.955912  3.51   5.06  1.01\n",
              "3      -1.3265  30.561122  1.29  0.897796  ...  7979.959920  4.66  16.86  1.01\n",
              "4      -1.3265  60.320641  1.29  0.557114  ...  5923.847695  1.05   1.26  0.01\n",
              "5      -1.3265  99.206413  1.29  0.482966  ...  5328.657315  1.01   3.06  0.01\n",
              "6      -1.3265  75.002004  1.29  0.210421  ...  1865.731463  1.51   1.26  0.06\n",
              "7      -1.3265  71.232465  1.29  0.855711  ...  7691.382766  1.06   3.96  0.01\n",
              "8      -1.3265  11.316633  1.29  0.521042  ...  8593.186373  6.21   4.61  1.01\n",
              "9      -1.3265  38.298597  1.29  0.272545  ...  7222.444890  5.56   7.86  1.01\n",
              "\n",
              "[10 rows x 11 columns]"
            ]
          },
          "metadata": {},
          "execution_count": 4
        }
      ]
    },
    {
      "cell_type": "code",
      "metadata": {
        "id": "ruER8FIWP7JL"
      },
      "source": [
        ""
      ],
      "execution_count": null,
      "outputs": []
    }
  ]
}